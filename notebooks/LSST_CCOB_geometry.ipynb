{
 "cells": [
  {
   "cell_type": "markdown",
   "id": "66de001c",
   "metadata": {},
   "source": [
    "# Study geometry handling\n",
    "Check if the tools used to handle the geometry are good enough"
   ]
  },
  {
   "cell_type": "markdown",
   "id": "2af597a5",
   "metadata": {},
   "source": [
    "## TODO\n",
    "- ?"
   ]
  },
  {
   "cell_type": "code",
   "execution_count": null,
   "id": "907efa14",
   "metadata": {},
   "outputs": [],
   "source": [
    "%load_ext autoreload\n",
    "%autoreload 2"
   ]
  },
  {
   "cell_type": "code",
   "execution_count": null,
   "id": "fbed5270",
   "metadata": {},
   "outputs": [],
   "source": [
    "import timeit\n",
    "import copy\n",
    "import concurrent.futures \n",
    "import math\n",
    "import numpy as np\n",
    "import matplotlib.pyplot as plt\n",
    "import pandas as pd\n",
    "import batoid\n",
    "\n",
    "from ghosts import plotter\n",
    "from ghosts import  simulator\n",
    "from ghosts import tweak_optics\n",
    "\n",
    "from ghosts.analysis import compute_ghost_separations, reduce_ghosts\n",
    "from ghosts.analysis import match_ghosts, compute_reduced_distance, compute_2d_reduced_distance, find_nearest_ghost\n",
    "from ghosts.analysis import make_data_frame\n",
    "\n",
    "from ghosts.beam_configs import BEAM_CONFIG_0, BEAM_CONFIG_1, BEAM_CONFIG_2, FAST_BEAM_CONFIG_1\n",
    "\n",
    "from ghosts import geom\n",
    "from ghosts.geom_config import GEOM_CONFIG_0"
   ]
  },
  {
   "cell_type": "code",
   "execution_count": null,
   "id": "7d861b08",
   "metadata": {},
   "outputs": [],
   "source": [
    "from ghosts.constants import *\n",
    "print(f'LSST Camera has {LSST_CAMERA_PIXEL_DENSITY_MM2:.0f} pixels per mm^2')"
   ]
  },
  {
   "cell_type": "code",
   "execution_count": null,
   "id": "bb29eb24",
   "metadata": {},
   "outputs": [],
   "source": [
    "# build the standard telescope from GEOM_CONFIG_0\n",
    "telescope = tweak_optics.build_telescope_from_geom(GEOM_CONFIG_0)"
   ]
  },
  {
   "cell_type": "code",
   "execution_count": null,
   "id": "e0faa91a",
   "metadata": {},
   "outputs": [],
   "source": [
    "# Run simulation with standard beam config\n",
    "traceFull, rForward, rReverse, rays = simulator.run_simulation(telescope, beam_config=BEAM_CONFIG_1)\n",
    "simulation = [traceFull, rForward, rReverse, rays]\n",
    "# Check setup\n",
    "plotter.plot_setup(telescope, simulation)\n"
   ]
  },
  {
   "cell_type": "code",
   "execution_count": null,
   "id": "44eb3a2e",
   "metadata": {},
   "outputs": [],
   "source": [
    "# Zoom on ghosts\n",
    "plotter.plot_zoom_on_ghosts(rForward)"
   ]
  },
  {
   "cell_type": "code",
   "execution_count": null,
   "id": "d89ab33a",
   "metadata": {},
   "outputs": [],
   "source": [
    "# Analyze reference set of beam spots\n",
    "ref_spots_data, _ref_spots = reduce_ghosts(rForward)\n",
    "ref_data_frame = make_data_frame(ref_spots_data, BEAM_CONFIG_1)\n",
    "ref_data_frame.sort_values(by=['name'])"
   ]
  },
  {
   "cell_type": "markdown",
   "id": "55ca7a96",
   "metadata": {},
   "source": [
    "Now the exercise consists in building several geometries, store these in a panda data frame, and then produce simulations from the data frame"
   ]
  },
  {
   "cell_type": "code",
   "execution_count": null,
   "id": "7886f161",
   "metadata": {},
   "outputs": [],
   "source": [
    "def run_and_analyze_simulation_for_geom_frame(geom_data_frame, beam_config=BEAM_CONFIG_1):\n",
    "    # define outputs\n",
    "    beam_spots = list()\n",
    "    # list of unique geom ids\n",
    "    geom_id_set = set(geom_data_frame['geom_id'])\n",
    "    # loop on geom ids\n",
    "    for geom_id in geom_id_set:\n",
    "        # get geom config as a dictionary for the geom id\n",
    "        geom_config = geom.to_dict(geom_data_frame[geom_data_frame['geom_id']==geom_id])\n",
    "        # build the standard telescope from GEOM_CONFIG_0\n",
    "        telescope = tweak_optics.build_telescope_from_geom(geom_config)\n",
    "        # run simulation\n",
    "        print(f'Run simulation for geom id: {geom_id}')\n",
    "        trace_full, r_forward, r_reverse, rays = simulator.run_simulation(telescope, beam_config=beam_config)\n",
    "        simulation = [trace_full, r_forward, r_reverse, rays]\n",
    "        # analyze beam spots\n",
    "        spots_data, _spots = reduce_ghosts(r_forward)\n",
    "        spots_data_frame = make_data_frame(spots_data, beam_config)\n",
    "        data = (geom_id, spots_data_frame)\n",
    "        beam_spots.append(data)\n",
    "    # return the set of beam spots and the geom id\n",
    "    return beam_spots"
   ]
  },
  {
   "cell_type": "code",
   "execution_count": null,
   "id": "627a953a",
   "metadata": {},
   "outputs": [],
   "source": [
    "my_shifts = [dx*0.01 for dx in range(-10, 11)]\n",
    "g = geom.build_translation_set('L1', 'x', my_shifts, 10000)"
   ]
  },
  {
   "cell_type": "code",
   "execution_count": null,
   "id": "4b12e467",
   "metadata": {},
   "outputs": [],
   "source": [
    "frame = geom.concat_dicts(g)\n",
    "frame.tail()\n"
   ]
  },
  {
   "cell_type": "code",
   "execution_count": null,
   "id": "4256f11d",
   "metadata": {},
   "outputs": [],
   "source": [
    "one = frame[frame['geom_id']==10015]\n",
    "one"
   ]
  },
  {
   "cell_type": "code",
   "execution_count": null,
   "id": "4acf8073",
   "metadata": {},
   "outputs": [],
   "source": [
    "geom.to_dict(one)"
   ]
  },
  {
   "cell_type": "code",
   "execution_count": null,
   "id": "6f1879f1",
   "metadata": {},
   "outputs": [],
   "source": [
    "geom_id_set = set(frame['geom_id'])"
   ]
  },
  {
   "cell_type": "code",
   "execution_count": null,
   "id": "df5443df",
   "metadata": {},
   "outputs": [],
   "source": [
    "# run simulations for the set of geometries\n",
    "beam_spots = run_and_analyze_simulation_for_geom_frame(frame, beam_config=BEAM_CONFIG_1)"
   ]
  },
  {
   "cell_type": "code",
   "execution_count": null,
   "id": "0442a95f",
   "metadata": {},
   "outputs": [],
   "source": [
    "# Compute distances for each frame\n",
    "distances_2d = list()\n",
    "distances_3d = list()\n",
    "my_geom_ids = list()\n",
    "for one in beam_spots:\n",
    "    geom_id = one[0]\n",
    "    df_i = one[1]\n",
    "    my_geom_ids.append(geom_id)\n",
    "    match_ref = match_ghosts(ref_data_frame, df_i)\n",
    "    distances_2d.append(compute_2d_reduced_distance(match_ref))\n",
    "    distances_3d.append(compute_reduced_distance(match_ref))\n"
   ]
  },
  {
   "cell_type": "code",
   "execution_count": null,
   "id": "17f08264",
   "metadata": {},
   "outputs": [],
   "source": [
    "plotter.plot_distances_for_scan(my_geom_ids, distances_2d, distances_3d)"
   ]
  },
  {
   "cell_type": "code",
   "execution_count": null,
   "id": "6cf54c99",
   "metadata": {},
   "outputs": [],
   "source": [
    "# Test rotation set\n",
    "my_angles = [i*0.01 for i in range(-10, 11)]\n",
    "r_set = geom.build_rotation_set('L2', 'y', my_angles, 20000)\n",
    "r_set_frame = geom.concat_dicts(r_set)\n",
    "r_set_frame.tail()"
   ]
  },
  {
   "cell_type": "code",
   "execution_count": null,
   "id": "26547d74",
   "metadata": {},
   "outputs": [],
   "source": [
    "# run simulations for the set of geometries\n",
    "r_beam_spots = run_and_analyze_simulation_for_geom_frame(r_set_frame, beam_config=BEAM_CONFIG_1)"
   ]
  },
  {
   "cell_type": "code",
   "execution_count": null,
   "id": "fd2e2793",
   "metadata": {},
   "outputs": [],
   "source": [
    "# Compute distances for each frame\n",
    "r_distances_2d = list()\n",
    "r_distances_3d = list()\n",
    "r_my_geom_ids = list()\n",
    "for one in r_beam_spots:\n",
    "    geom_id = one[0]\n",
    "    df_i = one[1]\n",
    "    r_my_geom_ids.append(geom_id)\n",
    "    match_ref = match_ghosts(ref_data_frame, df_i)\n",
    "    r_distances_2d.append(compute_2d_reduced_distance(match_ref))\n",
    "    r_distances_3d.append(compute_reduced_distance(match_ref))\n"
   ]
  },
  {
   "cell_type": "code",
   "execution_count": null,
   "id": "cf4a09c7",
   "metadata": {},
   "outputs": [],
   "source": [
    "plotter.plot_distances_for_scan(r_my_geom_ids, r_distances_2d, r_distances_3d)"
   ]
  },
  {
   "cell_type": "code",
   "execution_count": null,
   "id": "a910be87",
   "metadata": {},
   "outputs": [],
   "source": []
  }
 ],
 "metadata": {
  "kernelspec": {
   "display_name": "Python 3 (ipykernel)",
   "language": "python",
   "name": "python3"
  },
  "language_info": {
   "codemirror_mode": {
    "name": "ipython",
    "version": 3
   },
   "file_extension": ".py",
   "mimetype": "text/x-python",
   "name": "python",
   "nbconvert_exporter": "python",
   "pygments_lexer": "ipython3",
   "version": "3.9.7"
  }
 },
 "nbformat": 4,
 "nbformat_minor": 5
}
