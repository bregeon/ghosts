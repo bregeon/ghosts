{
 "cells": [
  {
   "cell_type": "code",
   "execution_count": 1,
   "id": "0e7699c0",
   "metadata": {},
   "outputs": [],
   "source": [
    "import pandas as pd\n",
    "import matplotlib.pyplot as plt"
   ]
  },
  {
   "cell_type": "code",
   "execution_count": 2,
   "id": "51d5fd19",
   "metadata": {},
   "outputs": [],
   "source": [
    "SENSORS_REFLECTIVITY_XLSX = '../data/sensor_reflectivity_qe_r+qe.xlsx'"
   ]
  },
  {
   "cell_type": "code",
   "execution_count": 3,
   "id": "cec3e99b",
   "metadata": {},
   "outputs": [
    {
     "data": {
      "text/html": [
       "<div>\n",
       "<style scoped>\n",
       "    .dataframe tbody tr th:only-of-type {\n",
       "        vertical-align: middle;\n",
       "    }\n",
       "\n",
       "    .dataframe tbody tr th {\n",
       "        vertical-align: top;\n",
       "    }\n",
       "\n",
       "    .dataframe thead th {\n",
       "        text-align: right;\n",
       "    }\n",
       "</style>\n",
       "<table border=\"1\" class=\"dataframe\">\n",
       "  <thead>\n",
       "    <tr style=\"text-align: right;\">\n",
       "      <th></th>\n",
       "      <th>Unnamed: 0</th>\n",
       "      <th>14.1-23.6 cone; based on forensic modeling (120321) of E2V test coating</th>\n",
       "      <th>Unnamed: 2</th>\n",
       "      <th>Unnamed: 3</th>\n",
       "    </tr>\n",
       "  </thead>\n",
       "  <tbody>\n",
       "    <tr>\n",
       "      <th>0</th>\n",
       "      <td>wavelength[nm]</td>\n",
       "      <td>reflectivity</td>\n",
       "      <td>QE</td>\n",
       "      <td>QE+reflectivity</td>\n",
       "    </tr>\n",
       "    <tr>\n",
       "      <th>1</th>\n",
       "      <td>300</td>\n",
       "      <td>0.733275</td>\n",
       "      <td>0.211573</td>\n",
       "      <td>0.944848</td>\n",
       "    </tr>\n",
       "    <tr>\n",
       "      <th>2</th>\n",
       "      <td>300.1</td>\n",
       "      <td>0.731736</td>\n",
       "      <td>0.212922</td>\n",
       "      <td>0.944658</td>\n",
       "    </tr>\n",
       "    <tr>\n",
       "      <th>3</th>\n",
       "      <td>300.2</td>\n",
       "      <td>0.730188</td>\n",
       "      <td>0.214281</td>\n",
       "      <td>0.944469</td>\n",
       "    </tr>\n",
       "    <tr>\n",
       "      <th>4</th>\n",
       "      <td>300.3</td>\n",
       "      <td>0.728631</td>\n",
       "      <td>0.215647</td>\n",
       "      <td>0.944278</td>\n",
       "    </tr>\n",
       "  </tbody>\n",
       "</table>\n",
       "</div>"
      ],
      "text/plain": [
       "       Unnamed: 0  \\\n",
       "0  wavelength[nm]   \n",
       "1             300   \n",
       "2           300.1   \n",
       "3           300.2   \n",
       "4           300.3   \n",
       "\n",
       "  14.1-23.6 cone; based on forensic modeling (120321) of E2V test coating  \\\n",
       "0                                       reflectivity                        \n",
       "1                                           0.733275                        \n",
       "2                                           0.731736                        \n",
       "3                                           0.730188                        \n",
       "4                                           0.728631                        \n",
       "\n",
       "  Unnamed: 2       Unnamed: 3  \n",
       "0         QE  QE+reflectivity  \n",
       "1   0.211573         0.944848  \n",
       "2   0.212922         0.944658  \n",
       "3   0.214281         0.944469  \n",
       "4   0.215647         0.944278  "
      ]
     },
     "execution_count": 3,
     "metadata": {},
     "output_type": "execute_result"
    }
   ],
   "source": [
    "df = pd.read_excel(SENSORS_REFLECTIVITY_XLSX)\n",
    "df.head()\n"
   ]
  },
  {
   "cell_type": "code",
   "execution_count": 4,
   "id": "527e45bf",
   "metadata": {},
   "outputs": [
    {
     "data": {
      "text/html": [
       "<div>\n",
       "<style scoped>\n",
       "    .dataframe tbody tr th:only-of-type {\n",
       "        vertical-align: middle;\n",
       "    }\n",
       "\n",
       "    .dataframe tbody tr th {\n",
       "        vertical-align: top;\n",
       "    }\n",
       "\n",
       "    .dataframe thead th {\n",
       "        text-align: right;\n",
       "    }\n",
       "</style>\n",
       "<table border=\"1\" class=\"dataframe\">\n",
       "  <thead>\n",
       "    <tr style=\"text-align: right;\">\n",
       "      <th></th>\n",
       "      <th>wavelength</th>\n",
       "      <th>reflectivity</th>\n",
       "      <th>QE</th>\n",
       "      <th>sum_qe_r</th>\n",
       "    </tr>\n",
       "  </thead>\n",
       "  <tbody>\n",
       "    <tr>\n",
       "      <th>1</th>\n",
       "      <td>300</td>\n",
       "      <td>0.733275</td>\n",
       "      <td>0.211573</td>\n",
       "      <td>0.944848</td>\n",
       "    </tr>\n",
       "    <tr>\n",
       "      <th>2</th>\n",
       "      <td>300.1</td>\n",
       "      <td>0.731736</td>\n",
       "      <td>0.212922</td>\n",
       "      <td>0.944658</td>\n",
       "    </tr>\n",
       "    <tr>\n",
       "      <th>3</th>\n",
       "      <td>300.2</td>\n",
       "      <td>0.730188</td>\n",
       "      <td>0.214281</td>\n",
       "      <td>0.944469</td>\n",
       "    </tr>\n",
       "    <tr>\n",
       "      <th>4</th>\n",
       "      <td>300.3</td>\n",
       "      <td>0.728631</td>\n",
       "      <td>0.215647</td>\n",
       "      <td>0.944278</td>\n",
       "    </tr>\n",
       "    <tr>\n",
       "      <th>5</th>\n",
       "      <td>300.4</td>\n",
       "      <td>0.727064</td>\n",
       "      <td>0.217021</td>\n",
       "      <td>0.944085</td>\n",
       "    </tr>\n",
       "  </tbody>\n",
       "</table>\n",
       "</div>"
      ],
      "text/plain": [
       "  wavelength reflectivity        QE  sum_qe_r\n",
       "1        300     0.733275  0.211573  0.944848\n",
       "2      300.1     0.731736  0.212922  0.944658\n",
       "3      300.2     0.730188  0.214281  0.944469\n",
       "4      300.3     0.728631  0.215647  0.944278\n",
       "5      300.4     0.727064  0.217021  0.944085"
      ]
     },
     "execution_count": 4,
     "metadata": {},
     "output_type": "execute_result"
    }
   ],
   "source": [
    "keys = df.keys()\n",
    "df_r = df.rename(columns={keys[0]: \"wavelength\", keys[1]: \"reflectivity\",\n",
    "                    keys[2]: \"QE\", keys[3]: \"sum_qe_r\"})\n",
    "data = df_r.iloc[1: , :]\n",
    "data.head()"
   ]
  },
  {
   "cell_type": "code",
   "execution_count": 14,
   "id": "7c8f863f",
   "metadata": {},
   "outputs": [
    {
     "ename": "AttributeError",
     "evalue": "'AxesSubplot' object has no attribute 'minolabels_on'",
     "output_type": "error",
     "traceback": [
      "\u001b[0;31m---------------------------------------------------------------------------\u001b[0m",
      "\u001b[0;31mAttributeError\u001b[0m                            Traceback (most recent call last)",
      "\u001b[0;32m/tmp/ipykernel_160591/1175869920.py\u001b[0m in \u001b[0;36m<module>\u001b[0;34m\u001b[0m\n\u001b[1;32m      9\u001b[0m \u001b[0max\u001b[0m\u001b[0;34m.\u001b[0m\u001b[0mgrid\u001b[0m\u001b[0;34m(\u001b[0m\u001b[0mwhich\u001b[0m\u001b[0;34m=\u001b[0m\u001b[0;34m'both'\u001b[0m\u001b[0;34m)\u001b[0m\u001b[0;34m\u001b[0m\u001b[0;34m\u001b[0m\u001b[0m\n\u001b[1;32m     10\u001b[0m \u001b[0max\u001b[0m\u001b[0;34m.\u001b[0m\u001b[0mminorticks_on\u001b[0m\u001b[0;34m(\u001b[0m\u001b[0;34m)\u001b[0m\u001b[0;34m\u001b[0m\u001b[0;34m\u001b[0m\u001b[0m\n\u001b[0;32m---> 11\u001b[0;31m \u001b[0max\u001b[0m\u001b[0;34m.\u001b[0m\u001b[0mminolabels_on\u001b[0m\u001b[0;34m(\u001b[0m\u001b[0;34m)\u001b[0m\u001b[0;34m\u001b[0m\u001b[0;34m\u001b[0m\u001b[0m\n\u001b[0m\u001b[1;32m     12\u001b[0m \u001b[0mplt\u001b[0m\u001b[0;34m.\u001b[0m\u001b[0mlegend\u001b[0m\u001b[0;34m(\u001b[0m\u001b[0mhandles\u001b[0m \u001b[0;34m=\u001b[0m \u001b[0;34m[\u001b[0m\u001b[0mref\u001b[0m\u001b[0;34m,\u001b[0m \u001b[0mqe\u001b[0m\u001b[0;34m]\u001b[0m\u001b[0;34m)\u001b[0m\u001b[0;34m\u001b[0m\u001b[0;34m\u001b[0m\u001b[0m\n",
      "\u001b[0;31mAttributeError\u001b[0m: 'AxesSubplot' object has no attribute 'minolabels_on'"
     ]
    },
    {
     "data": {
      "image/png": "[encoded data removed]",
      "text/plain": [
       "<Figure size 864x432 with 1 Axes>"
      ]
     },
     "metadata": {
      "needs_background": "light"
     },
     "output_type": "display_data"
    }
   ],
   "source": [
    "plt.rcParams[\"figure.figsize\"] = [12, 6]\n",
    "fig, ax = plt.subplots(1, 1)\n",
    "ref, = ax.plot(data['wavelength'], data['reflectivity'], label='reflectivity')\n",
    "qe, = ax.plot(data['wavelength'], data['QE'], label='quantum efficiency')\n",
    "ax.set_title('Sensor coating reflectivity and Quantum efficiency')\n",
    "ax.set_xlabel('wavelength (nm)')\n",
    "ax.set_ylabel('fraction')\n",
    "ax.set_ylim([0, 1])\n",
    "ax.grid(which='both')\n",
    "ax.minorticks_on()\n",
    "ax.minolabels_on()\n",
    "plt.legend(handles = [ref, qe])\n"
   ]
  },
  {
   "cell_type": "code",
   "execution_count": null,
   "id": "a707a70d",
   "metadata": {},
   "outputs": [],
   "source": []
  }
 ],
 "metadata": {
  "kernelspec": {
   "display_name": "Python 3 (ipykernel)",
   "language": "python",
   "name": "python3"
  },
  "language_info": {
   "codemirror_mode": {
    "name": "ipython",
    "version": 3
   },
   "file_extension": ".py",
   "mimetype": "text/x-python",
   "name": "python",
   "nbconvert_exporter": "python",
   "pygments_lexer": "ipython3",
   "version": "3.9.7"
  }
 },
 "nbformat": 4,
 "nbformat_minor": 5
}
