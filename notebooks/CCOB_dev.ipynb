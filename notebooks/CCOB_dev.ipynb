{
 "cells": [
  {
   "cell_type": "code",
   "execution_count": null,
   "id": "ecbd535c",
   "metadata": {},
   "outputs": [],
   "source": [
    "%load_ext autoreload\n",
    "%autoreload \n"
   ]
  },
  {
   "cell_type": "code",
   "execution_count": null,
   "id": "30157d47",
   "metadata": {},
   "outputs": [],
   "source": [
    "import timeit\n",
    "import copy\n",
    "import concurrent.futures \n",
    "import math\n",
    "import numpy as np\n",
    "import matplotlib.pyplot as plt\n",
    "import pandas as pd\n",
    "import batoid\n",
    "\n",
    "from ghosts import plotter\n",
    "from ghosts import simulator\n",
    "from ghosts import tweak_optics\n",
    "from ghosts import beam\n",
    "from ghosts import geom\n",
    "\n",
    "\n",
    "from ghosts.analysis import compute_ghost_separations, reduce_ghosts\n",
    "from ghosts.analysis import match_ghosts, compute_reduced_distance, compute_2d_reduced_distance, find_nearest_ghost\n",
    "from ghosts.analysis import make_data_frame\n",
    "\n",
    "from ghosts.beam_configs import BEAM_CONFIG_0, BEAM_CONFIG_1, BEAM_CONFIG_2, FAST_BEAM_CONFIG_1\n",
    "from ghosts.geom_config import GEOM_CONFIG_0\n"
   ]
  },
  {
   "cell_type": "code",
   "execution_count": null,
   "id": "b2dcfbc4",
   "metadata": {},
   "outputs": [],
   "source": [
    "from ghosts.constants import *\n",
    "print(f'LSST Camera has {LSST_CAMERA_PIXEL_DENSITY_MM2:.0f} pixels per mm^2')"
   ]
  },
  {
   "cell_type": "code",
   "execution_count": null,
   "id": "9d1e98af",
   "metadata": {},
   "outputs": [],
   "source": [
    "# CCOB like geometry, i.e. lenses + filters\n",
    "telescope = batoid.Optic.fromYaml(\"../data/LSST_CCOB_r.yaml\")"
   ]
  },
  {
   "cell_type": "code",
   "execution_count": null,
   "id": "6d48f57e",
   "metadata": {},
   "outputs": [],
   "source": [
    "# test list of optics\n",
    "assert tweak_optics.get_list_of_optics(telescope)==['L1', 'L2', 'Filter', 'L3', 'Detector'], 'Not a CCOB optical setup'\n",
    "\n",
    "# Make refractive interfaces partially reflective\n",
    "# Call on current telescope\n",
    "tweak_optics.make_optics_reflective(telescope)\n"
   ]
  },
  {
   "cell_type": "code",
   "execution_count": null,
   "id": "46048fff",
   "metadata": {},
   "outputs": [],
   "source": [
    "# Run simulation with standard beam config\n",
    "traceFull, rForward, rReverse, rays = simulator.run_simulation(telescope, beam_config=BEAM_CONFIG_1)\n"
   ]
  },
  {
   "cell_type": "code",
   "execution_count": null,
   "id": "0f4f4a1c",
   "metadata": {},
   "outputs": [],
   "source": [
    "# Analyze\n",
    "spots_data, _spots = reduce_ghosts(rForward)\n",
    "data_frame = make_data_frame(spots_data, BEAM_CONFIG_1['beam_id'], GEOM_CONFIG_0['geom_id'])\n"
   ]
  },
  {
   "cell_type": "code",
   "execution_count": null,
   "id": "1bb75b5f",
   "metadata": {},
   "outputs": [],
   "source": [
    "data_frame.head()"
   ]
  },
  {
   "cell_type": "code",
   "execution_count": null,
   "id": "54fe57d8",
   "metadata": {},
   "outputs": [],
   "source": [
    "# Test building several beams\n",
    "x_scan = [0., 0.05, 0.1, 0.15, 0.2]\n",
    "t_scan = [0, 5, 10, 15]"
   ]
  },
  {
   "cell_type": "code",
   "execution_count": null,
   "id": "7a6f4dff",
   "metadata": {},
   "outputs": [],
   "source": [
    "beam_scan_x = beam.build_translation_set(BEAM_CONFIG_0, 'x', x_scan, base_id=10000)\n",
    "beam_scan_t = beam.build_rotation_set(BEAM_CONFIG_1, 'theta', t_scan, base_id=20000)"
   ]
  },
  {
   "cell_type": "code",
   "execution_count": null,
   "id": "fcbc8650",
   "metadata": {},
   "outputs": [],
   "source": [
    "beam_scan_x_panda = beam.concat_dicts(beam_scan_x)\n",
    "beam_scan_x_panda.head()"
   ]
  },
  {
   "cell_type": "code",
   "execution_count": null,
   "id": "c97f4284",
   "metadata": {},
   "outputs": [],
   "source": [
    "beam_scan_t_panda = beam.concat_dicts(beam_scan_t)\n",
    "beam_scan_t_panda.head()"
   ]
  },
  {
   "cell_type": "code",
   "execution_count": null,
   "id": "717f9fc0",
   "metadata": {},
   "outputs": [],
   "source": [
    "# test make fast beams on the data frame for all beam configurations\n",
    "beam_scan_t_panda['n_photons']=10\n",
    "beam_scan_t_panda.head()"
   ]
  },
  {
   "cell_type": "code",
   "execution_count": null,
   "id": "5b659b2c",
   "metadata": {},
   "outputs": [],
   "source": []
  }
 ],
 "metadata": {
  "kernelspec": {
   "display_name": "Python 3 (ipykernel)",
   "language": "python",
   "name": "python3"
  },
  "language_info": {
   "codemirror_mode": {
    "name": "ipython",
    "version": 3
   },
   "file_extension": ".py",
   "mimetype": "text/x-python",
   "name": "python",
   "nbconvert_exporter": "python",
   "pygments_lexer": "ipython3",
   "version": "3.9.7"
  }
 },
 "nbformat": 4,
 "nbformat_minor": 5
}
