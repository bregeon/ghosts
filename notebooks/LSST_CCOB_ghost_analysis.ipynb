{
 "cells": [
  {
   "cell_type": "markdown",
   "id": "814aa4da",
   "metadata": {},
   "source": [
    "# LSST CCOB ghost analysis\n",
    "\n",
    "Develop the ghost images analysis"
   ]
  },
  {
   "cell_type": "markdown",
   "id": "d333a205",
   "metadata": {},
   "source": [
    "## TODO\n",
    "- design a real image analysis to get a list of ghost spots\n",
    "- update distance between 2 ghost spots to consider flux and size\n",
    "\n",
    "## Notes\n",
    "- for each optical element: 3 rotations, 3 positions\n",
    "- L1, L2, L3, Filter, Detector, Beam: 6 x 6 = 36 parameters\n"
   ]
  },
  {
   "cell_type": "code",
   "execution_count": null,
   "id": "bab2caaa",
   "metadata": {},
   "outputs": [],
   "source": [
    "%load_ext autoreload\n",
    "%autoreload 2"
   ]
  },
  {
   "cell_type": "code",
   "execution_count": null,
   "id": "6f6c40cd",
   "metadata": {},
   "outputs": [],
   "source": [
    "import timeit\n",
    "import copy\n",
    "import concurrent.futures \n",
    "import math\n",
    "import numpy as np\n",
    "import matplotlib.pyplot as plt\n",
    "import pandas as pd\n",
    "import batoid\n",
    "import ghosts.plotter as plotter\n",
    "import ghosts.simulator as simulator\n",
    "import ghosts.tweak_optics as tweak_optics\n",
    "\n",
    "from ghosts.analysis import compute_ghost_separations\n",
    "from ghosts.analysis import match_ghosts, compute_reduced_distance, compute_2d_reduced_distance, find_nearest_ghost\n",
    "from ghosts.analysis import make_data_frame\n",
    "\n",
    "from ghosts.beam_configs import BEAM_CONFIG_1, BEAM_CONFIG_2, FAST_BEAM_CONFIG_1\n",
    "\n"
   ]
  },
  {
   "cell_type": "code",
   "execution_count": null,
   "id": "fdd8b5d6",
   "metadata": {},
   "outputs": [],
   "source": [
    "from ghosts.constants import *\n",
    "print(f'LSST Camera has {LSST_CAMERA_PIXEL_DENSITY_MM2:.0f} pixels per mm^2')"
   ]
  },
  {
   "cell_type": "code",
   "execution_count": null,
   "id": "fe7a15cb",
   "metadata": {},
   "outputs": [],
   "source": [
    "# CCOB like geometry, i.e. lenses + filters\n",
    "telescope = batoid.Optic.fromYaml(\"../data/LSST_CCOB_r.yaml\")"
   ]
  },
  {
   "cell_type": "code",
   "execution_count": null,
   "id": "5b301d43",
   "metadata": {},
   "outputs": [],
   "source": [
    "# test list of optics\n",
    "assert tweak_optics.get_list_of_optics(telescope)==['L1', 'L2', 'Filter', 'L3', 'Detector'], 'Not a CCOB optical setup'\n",
    "\n",
    "# Make refractive interfaces partially reflective\n",
    "# Call on current telescope\n",
    "tweak_optics.make_optics_reflective(telescope)\n"
   ]
  },
  {
   "cell_type": "code",
   "execution_count": null,
   "id": "119257fb",
   "metadata": {},
   "outputs": [],
   "source": [
    "# Run simulation with standard beam config\n",
    "traceFull, rForward, rReverse, rays = simulator.run_simulation(telescope, beam_config=BEAM_CONFIG_1)\n",
    "simulation = [traceFull, rForward, rReverse, rays]\n",
    "# Check setup\n",
    "plotter.plot_setup(telescope, simulation)\n"
   ]
  },
  {
   "cell_type": "code",
   "execution_count": null,
   "id": "2221d67a",
   "metadata": {},
   "outputs": [],
   "source": [
    "# Zoom on ghosts\n",
    "plotter.plot_zoom_on_ghosts(rForward)"
   ]
  },
  {
   "cell_type": "code",
   "execution_count": null,
   "id": "6388b1fb",
   "metadata": {},
   "outputs": [],
   "source": [
    "# make figure and fill with plots\n",
    "plt.rcParams[\"figure.figsize\"] = [24, 24]\n",
    "spots_data = plotter.plot_ghosts_map(rForward)"
   ]
  },
  {
   "cell_type": "code",
   "execution_count": null,
   "id": "d7240d7a",
   "metadata": {},
   "outputs": [],
   "source": [
    "data_frame_1 = make_data_frame(spots_data, BEAM_CONFIG_1['beam_id'])\n",
    "data_frame_1.sort_values(by=['name'])"
   ]
  },
  {
   "cell_type": "code",
   "execution_count": null,
   "id": "ceed8882",
   "metadata": {},
   "outputs": [],
   "source": [
    "# Run another simulation with rotated L1\n",
    "rotated_telescope = tweak_optics.rotate_optic(telescope, 'L1', axis='y', angle=1)\n",
    "tweak_optics.make_optics_reflective(rotated_telescope)\n",
    "\n",
    "traceFull_2, rForward_2, rReverse_2, rays_2 = simulator.run_simulation(rotated_telescope,\n",
    "                                                                       beam_config=BEAM_CONFIG_1)\n",
    "plt.rcParams[\"figure.figsize\"] = [24, 24]\n",
    "spots_data_2 = plotter.plot_ghosts_map(rForward_2)\n"
   ]
  },
  {
   "cell_type": "code",
   "execution_count": null,
   "id": "1918083e",
   "metadata": {},
   "outputs": [],
   "source": [
    "data_frame_2 = make_data_frame(spots_data_2, BEAM_CONFIG_1['beam_id'])\n",
    "data_frame_2.sort_values(by=['name'])"
   ]
  },
  {
   "cell_type": "code",
   "execution_count": null,
   "id": "4d57a1e2",
   "metadata": {},
   "outputs": [],
   "source": [
    "match_1_2 = match_ghosts(data_frame_1, data_frame_2)\n",
    "match_1_2"
   ]
  },
  {
   "cell_type": "code",
   "execution_count": null,
   "id": "af468f23",
   "metadata": {},
   "outputs": [],
   "source": [
    "compute_reduced_distance(match_1_2)"
   ]
  },
  {
   "cell_type": "code",
   "execution_count": null,
   "id": "a32373a3",
   "metadata": {},
   "outputs": [],
   "source": [
    "fig, ax = plotter.plot_spots([data_frame_1, data_frame_2])"
   ]
  },
  {
   "cell_type": "code",
   "execution_count": null,
   "id": "ef7c7264",
   "metadata": {},
   "outputs": [],
   "source": [
    "# See what happens with a random telescope\n",
    "data_frame_r, ghost_separations_r = simulator.full_random_telescope_sim(telescope,\\\n",
    "                                    max_angle=1, max_shift=0.001, beam_config=BEAM_CONFIG_1)\n"
   ]
  },
  {
   "cell_type": "code",
   "execution_count": null,
   "id": "b8ea80a8",
   "metadata": {},
   "outputs": [],
   "source": [
    "match_1_r = match_ghosts(data_frame_1, data_frame_r)\n",
    "dist_1_r = compute_reduced_distance(match_1_r)\n",
    "print(f'distance 3d = {dist_1_r:.5f}')\n",
    "dist_1_r_2d = compute_2d_reduced_distance(match_1_r)\n",
    "print(f'distance 2d = {dist_1_r_2d:.5f}')\n",
    "fig, ax = plotter.plot_spots([data_frame_1, data_frame_r], range_y=(-0.05, 0.05))\n"
   ]
  },
  {
   "cell_type": "code",
   "execution_count": null,
   "id": "92e87254",
   "metadata": {},
   "outputs": [],
   "source": [
    "# See what happens with a random telescope\n",
    "data_frame_r2, ghost_separations_r2 = simulator.full_random_telescope_sim(telescope,\\\n",
    "                                    max_angle=1, max_shift=0.001, beam_config=BEAM_CONFIG_1)\n"
   ]
  },
  {
   "cell_type": "code",
   "execution_count": null,
   "id": "ad489fbc",
   "metadata": {},
   "outputs": [],
   "source": [
    "match_r_r2 = match_ghosts(data_frame_r, data_frame_r2)\n",
    "dist_r_r2 = compute_reduced_distance(match_r_r2)\n",
    "print(f'distance = {dist_r_r2:.5f}')\n",
    "fig, ax = plotter.plot_spots([data_frame_r, data_frame_r2], range_y=(-0.05, 0.05))\n"
   ]
  },
  {
   "cell_type": "code",
   "execution_count": null,
   "id": "52a7fe93",
   "metadata": {},
   "outputs": [],
   "source": [
    "match_r_r2"
   ]
  },
  {
   "cell_type": "code",
   "execution_count": null,
   "id": "bd01df1b",
   "metadata": {},
   "outputs": [],
   "source": [
    "distances_2d = list()\n",
    "distances_3d = list()\n",
    "for i in range(10):\n",
    "    df_i, gs_i = simulator.full_random_telescope_sim(telescope,\\\n",
    "                         max_angle=1, max_shift=0.001, beam_config=FAST_BEAM_CONFIG_1)\n",
    "    match_i = match_ghosts(data_frame_1, df_i)\n",
    "    dist_i = compute_reduced_distance(match_i)\n",
    "    distances_3d.append(dist_i)\n",
    "    \n",
    "    match_i2 = match_ghosts(data_frame_1, df_i)\n",
    "    dist_i2 = compute_2d_reduced_distance(match_i2)\n",
    "    distances_2d.append(dist_i2)\n"
   ]
  },
  {
   "cell_type": "code",
   "execution_count": null,
   "id": "603347c7",
   "metadata": {},
   "outputs": [],
   "source": [
    "plt.hist(distances_2d)\n",
    "# plt.xlim(0., 0.010)"
   ]
  },
  {
   "cell_type": "code",
   "execution_count": null,
   "id": "927d9695",
   "metadata": {},
   "outputs": [],
   "source": [
    "plt.hist(distances_3d)\n"
   ]
  },
  {
   "cell_type": "code",
   "execution_count": null,
   "id": "dd6f9d05",
   "metadata": {},
   "outputs": [],
   "source": []
  },
  {
   "cell_type": "code",
   "execution_count": null,
   "id": "81e52263",
   "metadata": {},
   "outputs": [],
   "source": []
  }
 ],
 "metadata": {
  "kernelspec": {
   "display_name": "Python 3 (ipykernel)",
   "language": "python",
   "name": "python3"
  },
  "language_info": {
   "codemirror_mode": {
    "name": "ipython",
    "version": 3
   },
   "file_extension": ".py",
   "mimetype": "text/x-python",
   "name": "python",
   "nbconvert_exporter": "python",
   "pygments_lexer": "ipython3",
   "version": "3.9.7"
  }
 },
 "nbformat": 4,
 "nbformat_minor": 5
}
