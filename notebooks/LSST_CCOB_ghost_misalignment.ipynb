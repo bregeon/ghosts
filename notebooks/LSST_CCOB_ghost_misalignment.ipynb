{
 "cells": [
  {
   "cell_type": "markdown",
   "id": "56dedb8e",
   "metadata": {},
   "source": [
    "# LSST CCOB ghost : misaligned optic tests\n",
    "\n",
    "Study effect of misaligments on ghost images"
   ]
  },
  {
   "cell_type": "code",
   "execution_count": null,
   "id": "c608b1d0",
   "metadata": {},
   "outputs": [],
   "source": []
  },
  {
   "cell_type": "markdown",
   "id": "7c49df34",
   "metadata": {},
   "source": [
    "## TODO\n",
    "- move functions to library\n",
    "- separate batoid module from analysis \n"
   ]
  },
  {
   "cell_type": "code",
   "execution_count": null,
   "id": "5de9af36",
   "metadata": {},
   "outputs": [],
   "source": [
    "%load_ext autoreload\n",
    "%autoreload 2"
   ]
  },
  {
   "cell_type": "code",
   "execution_count": null,
   "id": "fd122872",
   "metadata": {},
   "outputs": [],
   "source": [
    "import timeit\n",
    "import copy\n",
    "import concurrent.futures \n",
    "import math\n",
    "import matplotlib.pyplot as plt\n",
    "import pandas as pd\n",
    "import batoid\n",
    "import ghosts.plotter as plotter\n",
    "import ghosts.simulator as simulator\n",
    "import ghosts.tweak_optics as tweak_optics\n",
    "\n",
    "from ghosts.analysis import make_data_frame, compute_ghost_separations\n",
    "\n",
    "from ghosts.beam_configs import BEAM_CONFIG_0, BEAM_CONFIG_1, BEAM_CONFIG_2, FAST_BEAM_CONFIG_1\n",
    "from ghosts.geom_config import GEOM_CONFIG_0"
   ]
  },
  {
   "cell_type": "code",
   "execution_count": null,
   "id": "c18ab419",
   "metadata": {},
   "outputs": [],
   "source": [
    "from ghosts.constants import *\n",
    "print(f'LSST Camera has {LSST_CAMERA_PIXEL_DENSITY_MM2:.0f} pixels per mm^2')"
   ]
  },
  {
   "cell_type": "code",
   "execution_count": null,
   "id": "b24ed307",
   "metadata": {},
   "outputs": [],
   "source": [
    "from ghosts.beam import get_n_phot_for_power_nw_wl_nm\n",
    "\n",
    "wl = 500  # nm\n",
    "p = 100   # nW \n",
    "print(f'Number of photon for {p} nW at {wl} nm is {get_n_phot_for_power_nw_wl_nm(p, wl):e}')"
   ]
  },
  {
   "cell_type": "code",
   "execution_count": null,
   "id": "fcc4c11b",
   "metadata": {},
   "outputs": [],
   "source": [
    "# CCOB like geometry, i.e. lenses + filters\n",
    "telescope = batoid.Optic.fromYaml(\"LSST_CCOB_r.yaml\")"
   ]
  },
  {
   "cell_type": "code",
   "execution_count": null,
   "id": "1d79734f",
   "metadata": {},
   "outputs": [],
   "source": [
    "# test list of optics\n",
    "assert tweak_optics.get_list_of_optics(telescope)==['L1', 'L2', 'Filter', 'L3', 'Detector'], 'Not a CCOB optical setup'\n",
    "\n",
    "# Make refractive interfaces partially reflective\n",
    "\n",
    "# Call on current telescope\n",
    "tweak_optics.make_optics_reflective(telescope)\n"
   ]
  },
  {
   "cell_type": "code",
   "execution_count": null,
   "id": "fc77e0c1",
   "metadata": {
    "scrolled": true
   },
   "outputs": [],
   "source": [
    "# Run simulation with standard beam config\n",
    "traceFull, rForward, rReverse, rays = simulator.run_simulation(telescope, beam_config=BEAM_CONFIG_0)\n",
    "simulation = [traceFull, rForward, rReverse, rays]\n",
    "# Check setup\n",
    "plotter.plot_setup(telescope, simulation)\n"
   ]
  },
  {
   "cell_type": "code",
   "execution_count": null,
   "id": "d196afee",
   "metadata": {},
   "outputs": [],
   "source": [
    "# Zoom on ghosts\n",
    "plotter.plot_zoom_on_ghosts(rForward)"
   ]
  },
  {
   "cell_type": "code",
   "execution_count": null,
   "id": "c84325f1",
   "metadata": {},
   "outputs": [],
   "source": [
    "# make figure and fill with plots\n",
    "plt.rcParams[\"figure.figsize\"] = [24, 24]\n",
    "spots_data = plotter.plot_ghosts_map(rForward)"
   ]
  },
  {
   "cell_type": "code",
   "execution_count": null,
   "id": "a8dd0341",
   "metadata": {},
   "outputs": [],
   "source": [
    "data_frame_1 = make_data_frame(spots_data, BEAM_CONFIG_0['beam_id'], GEOM_CONFIG_0['geom_id'])\n",
    "data_frame_1.sort_values(by=['name'])"
   ]
  },
  {
   "cell_type": "code",
   "execution_count": null,
   "id": "3b306e1d",
   "metadata": {},
   "outputs": [],
   "source": [
    "# Looking at overal spots stats\n",
    "plotter.plot_spots_stats(data_frame_1)\n",
    "plt.show()"
   ]
  },
  {
   "cell_type": "code",
   "execution_count": null,
   "id": "7a99fa71",
   "metadata": {},
   "outputs": [],
   "source": [
    "#  compute ghost separations\n",
    "ghost_separations = compute_ghost_separations(data_frame_1)\n",
    "ghost_separations[100:105]"
   ]
  },
  {
   "cell_type": "code",
   "execution_count": null,
   "id": "c196dbcb",
   "metadata": {},
   "outputs": [],
   "source": [
    "plotter.plot_ghosts_spots_distances(ghost_separations)\n",
    "plt.show()\n"
   ]
  },
  {
   "cell_type": "markdown",
   "id": "bbeb8311",
   "metadata": {},
   "source": [
    "# Now rotating optics: L2"
   ]
  },
  {
   "cell_type": "code",
   "execution_count": null,
   "id": "172da589",
   "metadata": {},
   "outputs": [],
   "source": [
    "# Rotating L2 around Y\n",
    "rotated_telescope = tweak_optics.rotate_optic(telescope, 'L2', axis='y', angle=1)\n",
    "tweak_optics.make_optics_reflective(rotated_telescope)\n",
    "# showing telescope\n",
    "plt.rcParams[\"figure.figsize\"] = [6, 12]\n",
    "fig, ax = plt.subplots(1)\n",
    "# after rotation\n",
    "rotated_telescope.draw2d(ax, c='orange')\n",
    "# before rotation\n",
    "telescope.draw2d(ax, c='k')\n",
    "plt.show()"
   ]
  },
  {
   "cell_type": "code",
   "execution_count": null,
   "id": "8d05228d",
   "metadata": {},
   "outputs": [],
   "source": [
    "# Run simulation with standard beam config\n",
    "traceFull_r, rForward_r, rReverse_r, rays_r = simulator.run_simulation(rotated_telescope, beam_config=BEAM_CONFIG_0)\n",
    "simulation_r = [traceFull_r, rForward_r, rReverse_r, rays_r]\n",
    "# Check setup\n",
    "plotter.plot_setup(rotated_telescope, simulation_r)\n"
   ]
  },
  {
   "cell_type": "code",
   "execution_count": null,
   "id": "d759ac58",
   "metadata": {},
   "outputs": [],
   "source": [
    "# Zoom on ghosts\n",
    "plotter.plot_zoom_on_ghosts(rForward)\n",
    "plotter.plot_zoom_on_ghosts(rForward_r)"
   ]
  },
  {
   "cell_type": "code",
   "execution_count": null,
   "id": "83922ea7",
   "metadata": {},
   "outputs": [],
   "source": [
    "# make figure and fill with plots\n",
    "plt.rcParams[\"figure.figsize\"] = [24, 24]\n",
    "spots_data_r = plotter.plot_ghosts_map(rForward_r)"
   ]
  },
  {
   "cell_type": "code",
   "execution_count": null,
   "id": "a99fa7ac",
   "metadata": {},
   "outputs": [],
   "source": [
    "data_frame_r = make_data_frame(spots_data_r)\n",
    "plotter.plot_spots_stats(data_frame_r)\n",
    "plt.show()\n"
   ]
  },
  {
   "cell_type": "code",
   "execution_count": null,
   "id": "089b94d8",
   "metadata": {},
   "outputs": [],
   "source": [
    "ghost_separations_r = compute_ghost_separations(data_frame_r)\n",
    "plotter.plot_ghosts_spots_distances(ghost_separations_r)\n",
    "plt.show()\n"
   ]
  },
  {
   "cell_type": "code",
   "execution_count": null,
   "id": "f2e52434",
   "metadata": {},
   "outputs": [],
   "source": [
    "ghost_separations[:10].sort_values(by=['name_1', 'name_2'])\n",
    "\n"
   ]
  },
  {
   "cell_type": "code",
   "execution_count": null,
   "id": "a973da60",
   "metadata": {},
   "outputs": [],
   "source": [
    "ghost_separations_r[:10].sort_values(by=['name_1', 'name_2'])\n"
   ]
  },
  {
   "cell_type": "code",
   "execution_count": null,
   "id": "141161ac",
   "metadata": {},
   "outputs": [],
   "source": [
    "name_1=('L1_exit', 'L1_entrance')\n",
    "name_2=('Filter_entrance', 'L1_entrance')\n",
    "ghost_separations_r[(ghost_separations_r['name_1']==name_1) & (ghost_separations_r['name_2']==name_2)]\n"
   ]
  },
  {
   "cell_type": "markdown",
   "id": "4af92e52",
   "metadata": {},
   "source": [
    "# Now inspecting spots data to know by how these moved for the L2 rotation\n"
   ]
  },
  {
   "cell_type": "code",
   "execution_count": null,
   "id": "63587be9",
   "metadata": {},
   "outputs": [],
   "source": [
    "data_frame_1.head()\n"
   ]
  },
  {
   "cell_type": "code",
   "execution_count": null,
   "id": "37a747e8",
   "metadata": {},
   "outputs": [],
   "source": [
    "data_frame_r.head()"
   ]
  },
  {
   "cell_type": "code",
   "execution_count": null,
   "id": "ff44d611",
   "metadata": {},
   "outputs": [],
   "source": [
    "x_diff = pd.merge(data_frame_1, data_frame_r, how='left', on='name')\n",
    "x_diff.head()"
   ]
  },
  {
   "cell_type": "markdown",
   "id": "e409b5df",
   "metadata": {},
   "source": [
    "# Rotating L2 by 0.1°"
   ]
  },
  {
   "cell_type": "code",
   "execution_count": null,
   "id": "9b051466",
   "metadata": {},
   "outputs": [],
   "source": [
    "# Rotating L2 around Y\n",
    "rotated_L2 = tweak_optics.rotate_optic(telescope, 'L2', axis='y', angle=0.1)\n",
    "tweak_optics.make_optics_reflective(rotated_L2)\n",
    "traceFull_L2, rForward_L2, rReverse_L2, rays_L2 = simulator.run_simulation(rotated_L2, beam_config=BEAM_CONFIG_0)\n",
    "plotter.plot_zoom_on_ghosts(rForward)\n",
    "plotter.plot_zoom_on_ghosts(rForward_L2)\n",
    "plt.rcParams[\"figure.figsize\"] = [24, 24]\n",
    "spots_data_L2 = plotter.plot_ghosts_map(rForward_L2)\n",
    "data_frame_L2 = make_data_frame(spots_data_L2)\n",
    "ghost_separations_L2 = compute_ghost_separations(data_frame_L2)\n",
    "plt.show()\n"
   ]
  },
  {
   "cell_type": "code",
   "execution_count": null,
   "id": "8f55b367",
   "metadata": {},
   "outputs": [],
   "source": [
    "# by how much beam spots moved?\n",
    "x_diff_L2 = pd.merge(data_frame_1, data_frame_L2, how='left', on='name')\n",
    "print(f'L2 rotation of 0.1° means a displacement of {300*math.tan(0.1*3.14/180.):.3f} mm of the lens border.')    \n",
    "plotter.plot_ghosts_displacements(x_diff_L2)\n",
    "plt.show()\n"
   ]
  },
  {
   "cell_type": "markdown",
   "id": "878939fb",
   "metadata": {},
   "source": [
    "## Rotating L2 by just 0.01°"
   ]
  },
  {
   "cell_type": "code",
   "execution_count": null,
   "id": "23456a0d",
   "metadata": {},
   "outputs": [],
   "source": [
    "# now rotating L2 by just 0.01 degrees\n",
    "df_L2_2, sf_gs_L2_2 = simulator.full_rotation_L2(telescope, angle=0.01)"
   ]
  },
  {
   "cell_type": "code",
   "execution_count": null,
   "id": "0c0dd5cb",
   "metadata": {},
   "outputs": [],
   "source": [
    "# Merge tables\n",
    "x_diff_L2_2 = pd.merge(data_frame_1, df_L2_2, how='left', on='name')\n",
    "# Tmp var\n",
    "tmp_diff_L2_2 = x_diff_L2_2['pos_x_x']-x_diff_L2_2['pos_x_y']\n",
    "# Get maximum positive displacement\n",
    "d_max = max(tmp_diff_L2_2)\n",
    "i_max = tmp_diff_L2_2.idxmax()\n",
    "ghost_max = x_diff_L2_2['name'][i_max]\n",
    "print(f'Max displacement is {d_max*1000:.3f} mm for {ghost_max}')\n",
    "# Plot\n",
    "plotter.plot_ghosts_displacements(x_diff_L2_2)\n",
    "plt.show()\n"
   ]
  },
  {
   "cell_type": "markdown",
   "id": "906ed9b6",
   "metadata": {},
   "source": [
    "## Scan on L2, Filter, L1 and Camera rotation angles [-1, 1, 0.1]"
   ]
  },
  {
   "cell_type": "code",
   "execution_count": null,
   "id": "44f01c30",
   "metadata": {},
   "outputs": [],
   "source": [
    "# Run a scan in L2 rotation\n",
    "L2_r_merged, L2_angles = simulator.sim_scan_rotated_optic(telescope, 'L2',\n",
    "                                                          min_angle=-1, max_angle=1, step_angle=0.1,\n",
    "                                                          ref_data_frame=data_frame_1)"
   ]
  },
  {
   "cell_type": "code",
   "execution_count": null,
   "id": "6caa1694",
   "metadata": {},
   "outputs": [],
   "source": [
    "# Plot maximum displacement as a function of L2 rotation angle\n",
    "plotter.plot_max_displacement_for_sim_scan(L2_r_merged, L2_angles)"
   ]
  },
  {
   "cell_type": "code",
   "execution_count": null,
   "id": "fcd18f62",
   "metadata": {},
   "outputs": [],
   "source": [
    "# Run a scan in Filter rotation\n",
    "filter_r_merged, filter_angles = simulator.sim_scan_rotated_optic(telescope, 'Filter',\n",
    "                                                                  min_angle=-1, max_angle=1, step_angle=0.1,\n",
    "                                                                  ref_data_frame=data_frame_1)"
   ]
  },
  {
   "cell_type": "code",
   "execution_count": null,
   "id": "3d54dd8a",
   "metadata": {},
   "outputs": [],
   "source": [
    "# Plot maximum displacement as a function of Filter rotation angle\n",
    "plotter.plot_max_displacement_for_sim_scan(filter_r_merged, filter_angles)"
   ]
  },
  {
   "cell_type": "code",
   "execution_count": null,
   "id": "df34fab1",
   "metadata": {},
   "outputs": [],
   "source": [
    "# Run a scan in L1 rotation\n",
    "L1_merged, L1_angles = simulator.sim_scan_rotated_optic(telescope, 'L1',\n",
    "                                                        min_angle=-1, max_angle=1, step_angle=0.1,\n",
    "                                                        ref_data_frame=data_frame_1)"
   ]
  },
  {
   "cell_type": "code",
   "execution_count": null,
   "id": "9892e818",
   "metadata": {},
   "outputs": [],
   "source": [
    "# Plot maximum displacement as a function of L1 rotation angle\n",
    "plotter.plot_max_displacement_for_sim_scan(L1_merged, L1_angles)"
   ]
  },
  {
   "cell_type": "code",
   "execution_count": null,
   "id": "6c228213",
   "metadata": {},
   "outputs": [],
   "source": [
    "# Run a scan in L3 rotation\n",
    "L3_merged, L3_angles = simulator.sim_scan_rotated_optic(telescope, 'L3',\n",
    "                                                        min_angle=-1, max_angle=1, step_angle=0.1,\n",
    "                                                        ref_data_frame=data_frame_1)"
   ]
  },
  {
   "cell_type": "code",
   "execution_count": null,
   "id": "16cb87ee",
   "metadata": {},
   "outputs": [],
   "source": [
    "# Plot maximum displacement as a function of L3 rotation angle\n",
    "plotter.plot_max_displacement_for_sim_scan(L3_merged, L3_angles)"
   ]
  },
  {
   "cell_type": "code",
   "execution_count": null,
   "id": "c99e7bdb",
   "metadata": {},
   "outputs": [],
   "source": [
    "# Run a scan in detector rotation\n",
    "d_merged, d_angles = simulator.sim_scan_rotated_optic(telescope, 'Detector',\n",
    "                                                      min_angle=-0.1, max_angle=0.1, step_angle=0.005,\n",
    "                                                      ref_data_frame=data_frame_1)"
   ]
  },
  {
   "cell_type": "code",
   "execution_count": null,
   "id": "9b332a40",
   "metadata": {},
   "outputs": [],
   "source": [
    "# Plot maximum displacement as a function of Detector rotation angle\n",
    "plotter.plot_max_displacement_for_sim_scan(d_merged, d_angles)"
   ]
  },
  {
   "cell_type": "markdown",
   "id": "bd56473c",
   "metadata": {},
   "source": [
    "# Now working on Translations\n"
   ]
  },
  {
   "cell_type": "markdown",
   "id": "c1168d0d",
   "metadata": {},
   "source": [
    "## first test translation"
   ]
  },
  {
   "cell_type": "code",
   "execution_count": null,
   "id": "af73d973",
   "metadata": {},
   "outputs": [],
   "source": [
    "# Moving L2 along X\n",
    "translated_telescope = tweak_optics.translate_optic(telescope, 'L2', axis='x', distance=0.1)\n",
    "tweak_optics.make_optics_reflective(translated_telescope)\n",
    "# showing telescope\n",
    "fig, ax = plt.subplots(1)\n",
    "fig.set_size_inches(6, 12)\n",
    "# after rotation\n",
    "translated_telescope.draw2d(ax, c='orange')\n",
    "# before rotation\n",
    "telescope.draw2d(ax, c='k')\n",
    "plt.show()"
   ]
  },
  {
   "cell_type": "markdown",
   "id": "cf647ea6",
   "metadata": {},
   "source": [
    "## now check effect on ghost of a 1 cm shift"
   ]
  },
  {
   "cell_type": "code",
   "execution_count": null,
   "id": "f6a1133d",
   "metadata": {},
   "outputs": [],
   "source": [
    "# Rotating L2 around Y\n",
    "translated_L2 = tweak_optics.translate_optic(telescope, 'L2', axis='x', distance=0.01)\n",
    "tweak_optics.make_optics_reflective(translated_L2)\n",
    "traceFull_L2_s, rForward_L2_s, rReverse_L2_s, rays_L2_s = simulator.run_simulation(translated_L2, beam_config=BEAM_CONFIG_0)\n",
    "plotter.plot_zoom_on_ghosts(rForward)\n",
    "plotter.plot_zoom_on_ghosts(rForward_L2_s)\n",
    "plt.rcParams[\"figure.figsize\"] = [24, 24]\n",
    "spots_data_L2_s = plotter.plot_ghosts_map(rForward_L2_s)\n",
    "data_frame_L2_s = make_data_frame(spots_data_L2_s)\n",
    "ghost_separations_L2_s = compute_ghost_separations(data_frame_L2_s)\n",
    "plt.show()"
   ]
  },
  {
   "cell_type": "markdown",
   "id": "20e68315",
   "metadata": {},
   "source": [
    "## now setup a scan in shift of L2"
   ]
  },
  {
   "cell_type": "code",
   "execution_count": null,
   "id": "2a8021e0",
   "metadata": {},
   "outputs": [],
   "source": [
    "min_dist = -0.01\n",
    "max_dist = 0.01\n",
    "step_dist = 0.001\n",
    "# Scan a shift in L2 along the x axis\n",
    "L2_shifted, L2_shifts = simulator.sim_scan_translated_optic(telescope, optic_name='L2',\n",
    "                                                            min_dist=min_dist, max_dist=max_dist, step_dist=step_dist,\n",
    "                                                            ref_data_frame=data_frame_1)"
   ]
  },
  {
   "cell_type": "code",
   "execution_count": null,
   "id": "ecdc4a19",
   "metadata": {},
   "outputs": [],
   "source": [
    "# plot max ghost spot displacement\n",
    "plotter.plot_max_displacement_for_sim_scan(L2_shifted, L2_shifts, trans_type='shift')"
   ]
  },
  {
   "cell_type": "markdown",
   "id": "c995b8b8",
   "metadata": {},
   "source": [
    "## shift filter\n"
   ]
  },
  {
   "cell_type": "code",
   "execution_count": null,
   "id": "2f808db4",
   "metadata": {},
   "outputs": [],
   "source": [
    "# Scan a shift in L2 along the x axis\n",
    "f_shifted, f_shifts = simulator.sim_scan_translated_optic(telescope, optic_name='Filter',\n",
    "                                                          min_dist=min_dist, max_dist=max_dist, step_dist=step_dist,\n",
    "                                                          ref_data_frame=data_frame_1)"
   ]
  },
  {
   "cell_type": "code",
   "execution_count": null,
   "id": "4885cb72",
   "metadata": {},
   "outputs": [],
   "source": [
    "# plot max ghost spot displacement\n",
    "plotter.plot_max_displacement_for_sim_scan(f_shifted, f_shifts, trans_type='shift')"
   ]
  },
  {
   "cell_type": "markdown",
   "id": "015a8e7c",
   "metadata": {},
   "source": [
    "## look at a more realistic shift of the detector plane"
   ]
  },
  {
   "cell_type": "code",
   "execution_count": null,
   "id": "735dff56",
   "metadata": {},
   "outputs": [],
   "source": [
    "# Scan a shift in L2 along the x axis\n",
    "d_shifted, d_shifts = simulator.sim_scan_translated_optic(telescope, optic_name='Detector',\n",
    "                                                          min_dist=-0.0005, max_dist=0.0005, step_dist=0.00001,\n",
    "                                                          ref_data_frame=data_frame_1)"
   ]
  },
  {
   "cell_type": "code",
   "execution_count": null,
   "id": "b29c6486",
   "metadata": {},
   "outputs": [],
   "source": [
    "# plot max ghost spot displacement\n",
    "plotter.plot_max_displacement_for_sim_scan(d_shifted, d_shifts, trans_type='shift')"
   ]
  },
  {
   "cell_type": "markdown",
   "id": "0c0b386c",
   "metadata": {},
   "source": [
    "# Now building telescopes with randomly translated and rotated optics"
   ]
  },
  {
   "cell_type": "code",
   "execution_count": null,
   "id": "edcaed95",
   "metadata": {},
   "outputs": [],
   "source": [
    "# showing telescopes\n",
    "fig, ax = plt.subplots(2, 6)\n",
    "fig.set_size_inches(24, 24)\n",
    "ax = ax.flatten()\n",
    "# draw plenty of random telescopes\n",
    "for i in range(12):\n",
    "    rnd_tel = tweak_optics.randomized_telescope(telescope, max_angle=1, max_shift=0.01)\n",
    "    tweak_optics.make_optics_reflective(rnd_tel)\n",
    "    rnd_tel.draw2d(ax[i], c='orange')\n",
    "    # before rotation\n",
    "    telescope.draw2d(ax[i], c='k')\n",
    "plt.tight_layout()\n",
    "plt.show()"
   ]
  },
  {
   "cell_type": "markdown",
   "id": "77fbfd2b",
   "metadata": {},
   "source": [
    "# Characterize impact of randomizing telescope on an on the optical axis light beam\n"
   ]
  },
  {
   "cell_type": "code",
   "execution_count": null,
   "id": "299fcce5",
   "metadata": {},
   "outputs": [],
   "source": [
    "# Create new beam config with less photons to be simulated\n",
    "BEAM_CONFIG_on_axis_fast = copy.copy(BEAM_CONFIG_0)\n",
    "BEAM_CONFIG_on_axis_fast['n_photons'] = 100\n"
   ]
  },
  {
   "cell_type": "code",
   "execution_count": null,
   "id": "2c9d3322",
   "metadata": {},
   "outputs": [],
   "source": [
    "# Check main spot position for multiple different random telescopes\n",
    "main_spot_name = ('main', 'main')\n",
    "def get_spot_x():\n",
    "    df, gh = simulator.full_random_telescope_sim(telescope, max_angle=0.1, max_shift=0.001,\n",
    "                                                 beam_config=BEAM_CONFIG_on_axis_fast)\n",
    "    return df[df['name']==main_spot_name]['pos_x'].item()\n",
    "\n",
    "x_spot_future = list()\n",
    "\n",
    "starttime = timeit.default_timer()\n",
    "with concurrent.futures.ThreadPoolExecutor() as executor:\n",
    "    futures = [executor.submit(get_spot_x, ) for i in range(10)]\n",
    "    for future in concurrent.futures.as_completed(futures):\n",
    "        x_spot_future.append(future.result())\n",
    "stoptime = timeit.default_timer()\n",
    "\n",
    "print(x_spot_future)\n",
    "print(\"The time difference is :\", stoptime - starttime)\n"
   ]
  },
  {
   "cell_type": "code",
   "execution_count": null,
   "id": "6cf61852",
   "metadata": {},
   "outputs": [],
   "source": [
    "# plot position of the main spot for all random telescopes\n",
    "fig, ax = plt.subplots(1, 1)\n",
    "fig.set_size_inches(9, 9)\n",
    "ax.hist(x_spot_future)\n",
    "ax.set_title('Main spot position for different random telescopes realizations')\n",
    "ax.set_xlabel('main spot position along x (m)')\n",
    "plt.show()"
   ]
  }
 ],
 "metadata": {
  "kernelspec": {
   "display_name": "Python 3 (ipykernel)",
   "language": "python",
   "name": "python3"
  },
  "language_info": {
   "codemirror_mode": {
    "name": "ipython",
    "version": 3
   },
   "file_extension": ".py",
   "mimetype": "text/x-python",
   "name": "python",
   "nbconvert_exporter": "python",
   "pygments_lexer": "ipython3",
   "version": "3.9.7"
  }
 },
 "nbformat": 4,
 "nbformat_minor": 5
}
