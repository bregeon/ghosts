{
 "cells": [
  {
   "cell_type": "markdown",
   "id": "56dedb8e",
   "metadata": {},
   "source": [
    "# LSST CCOB ghost : misaligned optic tests\n",
    "\n",
    "Study effect of misaligments on ghost images"
   ]
  },
  {
   "cell_type": "markdown",
   "id": "7c49df34",
   "metadata": {},
   "source": [
    "## TODO\n",
    "- move functions to library\n",
    "- separate batoid module from analysis \n"
   ]
  },
  {
   "cell_type": "code",
   "execution_count": null,
   "id": "5de9af36",
   "metadata": {},
   "outputs": [],
   "source": [
    "%load_ext autoreload\n",
    "%autoreload 2"
   ]
  },
  {
   "cell_type": "code",
   "execution_count": null,
   "id": "fd122872",
   "metadata": {},
   "outputs": [],
   "source": [
    "import batoid\n",
    "import matplotlib.pyplot as plt\n",
    "import ghosts.plotter as plotter"
   ]
  },
  {
   "cell_type": "code",
   "execution_count": null,
   "id": "c18ab419",
   "metadata": {},
   "outputs": [],
   "source": [
    "from ghosts.constants import *\n",
    "print(f'LSST Camera has {LSST_CAMERA_PIXEL_DENSITY_MM2:.0f} pixels per mm^2')"
   ]
  },
  {
   "cell_type": "code",
   "execution_count": null,
   "id": "b24ed307",
   "metadata": {},
   "outputs": [],
   "source": [
    "from ghosts.beam import get_n_phot_for_power_nw_wl_nm\n",
    "\n",
    "wl = 500  # nm\n",
    "p = 100   # nW \n",
    "print(f'Number of photon for {p} nW at {wl} nm is {get_n_phot_for_power_nw_wl_nm(p, wl):e}')"
   ]
  },
  {
   "cell_type": "code",
   "execution_count": null,
   "id": "fcc4c11b",
   "metadata": {},
   "outputs": [],
   "source": [
    "# CCOB like geometry, i.e. lenses + filters\n",
    "telescope = batoid.Optic.fromYaml(\"LSST_CCOB_r.yaml\")"
   ]
  },
  {
   "cell_type": "code",
   "execution_count": null,
   "id": "1d79734f",
   "metadata": {},
   "outputs": [],
   "source": [
    "from ghosts.tweak_optics import *\n",
    "# test list of optics\n",
    "assert get_list_of_optics(telescope)==['L1', 'L2', 'Filter', 'L3', 'Detector'], 'Not a CCOB optical setup'\n",
    "\n",
    "# Make refractive interfaces partially reflective\n",
    "\n",
    "# Call on current telescope\n",
    "make_optics_reflective(telescope)\n"
   ]
  },
  {
   "cell_type": "code",
   "execution_count": null,
   "id": "fc77e0c1",
   "metadata": {
    "scrolled": true
   },
   "outputs": [],
   "source": [
    "from ghosts.beam_configs import BEAM_CONFIG_0\n",
    "from ghosts.simulator import run_simulation\n",
    "from ghosts.plotter import plot_setup\n",
    "\n",
    "# Run simulation with standard beam config\n",
    "traceFull, rForward, rReverse, rays = run_simulation(telescope, beam_config=BEAM_CONFIG_0)\n",
    "simulation = [traceFull, rForward, rReverse, rays]\n",
    "# Check setup\n",
    "plot_setup(telescope, simulation)\n"
   ]
  },
  {
   "cell_type": "code",
   "execution_count": null,
   "id": "d196afee",
   "metadata": {},
   "outputs": [],
   "source": [
    "# Zoom on ghosts\n",
    "from ghosts.plotter import plot_zoom_on_ghosts\n",
    "plot_zoom_on_ghosts(rForward)"
   ]
  },
  {
   "cell_type": "code",
   "execution_count": null,
   "id": "c84325f1",
   "metadata": {},
   "outputs": [],
   "source": [
    "from ghosts.plotter import plot_ghosts_map\n",
    "# make figure and fill with plots\n",
    "plt.rcParams[\"figure.figsize\"] = [24, 24]\n",
    "spots_data = plot_ghosts_map(rForward)"
   ]
  },
  {
   "cell_type": "code",
   "execution_count": null,
   "id": "a8dd0341",
   "metadata": {},
   "outputs": [],
   "source": [
    "from ghosts.analysis import make_data_frame\n",
    "data_frame_1 = make_data_frame(rForward, spots_data)\n",
    "data_frame_1.sort_values(by=['name'])"
   ]
  },
  {
   "cell_type": "code",
   "execution_count": null,
   "id": "3b306e1d",
   "metadata": {},
   "outputs": [],
   "source": [
    "# Looking at overal spots stats\n",
    "plotter.plot_spots_stats(data_frame_1)\n",
    "plt.show()"
   ]
  },
  {
   "cell_type": "code",
   "execution_count": null,
   "id": "7a99fa71",
   "metadata": {},
   "outputs": [],
   "source": [
    "from ghosts.analysis import compute_ghost_separations\n",
    "#  compute ghost separations\n",
    "ghost_separations = compute_ghost_separations(data_frame_1)\n",
    "ghost_separations[100:105]"
   ]
  },
  {
   "cell_type": "code",
   "execution_count": null,
   "id": "c196dbcb",
   "metadata": {},
   "outputs": [],
   "source": [
    "plotter.plot_ghosts_spots_distances(ghost_separations)\n",
    "plt.show()\n"
   ]
  },
  {
   "cell_type": "markdown",
   "id": "bbeb8311",
   "metadata": {},
   "source": [
    "# Now rotating optics: L2"
   ]
  },
  {
   "cell_type": "code",
   "execution_count": null,
   "id": "172da589",
   "metadata": {},
   "outputs": [],
   "source": [
    "# Rotating L2 around Y\n",
    "rotated_telescope = rotate_optic(telescope, 'L2', axis='y', angle=1, verbose=True)\n",
    "make_optics_reflective(rotated_telescope)\n",
    "# showing telescope\n",
    "plt.rcParams[\"figure.figsize\"] = [6, 12]\n",
    "fig, ax = plt.subplots(1)\n",
    "# after rotation\n",
    "rotated_telescope.draw2d(ax, c='orange')\n",
    "# before rotation\n",
    "telescope.draw2d(ax, c='k')\n",
    "plt.show()"
   ]
  },
  {
   "cell_type": "code",
   "execution_count": null,
   "id": "8d05228d",
   "metadata": {},
   "outputs": [],
   "source": [
    "# Run simulation with standard beam config\n",
    "traceFull_r, rForward_r, rReverse_r, rays_r = run_simulation(rotated_telescope, beam_config=BEAM_CONFIG_0)\n",
    "simulation_r = [traceFull_r, rForward_r, rReverse_r, rays_r]\n",
    "# Check setup\n",
    "plot_setup(rotated_telescope, simulation_r)\n"
   ]
  },
  {
   "cell_type": "code",
   "execution_count": null,
   "id": "d759ac58",
   "metadata": {},
   "outputs": [],
   "source": [
    "# Zoom on ghosts\n",
    "plot_zoom_on_ghosts(rForward)\n",
    "plot_zoom_on_ghosts(rForward_r)"
   ]
  },
  {
   "cell_type": "code",
   "execution_count": null,
   "id": "83922ea7",
   "metadata": {},
   "outputs": [],
   "source": [
    "# make figure and fill with plots\n",
    "plt.rcParams[\"figure.figsize\"] = [24, 24]\n",
    "spots_data_r = plot_ghosts_map(rForward_r)"
   ]
  },
  {
   "cell_type": "code",
   "execution_count": null,
   "id": "a99fa7ac",
   "metadata": {},
   "outputs": [],
   "source": [
    "data_frame_r = make_data_frame(rForward_r, spots_data_r)\n",
    "plot_spots_stats(data_frame_r)\n",
    "plt.show()\n"
   ]
  },
  {
   "cell_type": "code",
   "execution_count": null,
   "id": "089b94d8",
   "metadata": {},
   "outputs": [],
   "source": [
    "ghost_separations_r = compute_ghost_separations(data_frame_r)\n",
    "plot_ghosts_spots_distances(ghost_separations_r)\n",
    "plt.show()\n"
   ]
  },
  {
   "cell_type": "code",
   "execution_count": null,
   "id": "f2e52434",
   "metadata": {},
   "outputs": [],
   "source": [
    "ghost_separations[:10].sort_values(by=['name_1', 'name_2'])\n",
    "\n"
   ]
  },
  {
   "cell_type": "code",
   "execution_count": null,
   "id": "a973da60",
   "metadata": {},
   "outputs": [],
   "source": [
    "ghost_separations_r[:10].sort_values(by=['name_1', 'name_2'])\n"
   ]
  },
  {
   "cell_type": "code",
   "execution_count": null,
   "id": "141161ac",
   "metadata": {},
   "outputs": [],
   "source": [
    "name_1=('L1_exit', 'L1_entrance')\n",
    "name_2=('Filter_entrance', 'L1_entrance')\n",
    "ghost_separations_r[(ghost_separations_r['name_1']==name_1) & (ghost_separations_r['name_2']==name_2)]\n"
   ]
  },
  {
   "cell_type": "markdown",
   "id": "4af92e52",
   "metadata": {},
   "source": [
    "# Now inspecting spots data to know by how these moved for the L2 rotation\n"
   ]
  },
  {
   "cell_type": "code",
   "execution_count": null,
   "id": "63587be9",
   "metadata": {},
   "outputs": [],
   "source": [
    "data_frame_1.head()\n"
   ]
  },
  {
   "cell_type": "code",
   "execution_count": null,
   "id": "37a747e8",
   "metadata": {},
   "outputs": [],
   "source": [
    "data_frame_r.head()"
   ]
  },
  {
   "cell_type": "code",
   "execution_count": null,
   "id": "ff44d611",
   "metadata": {},
   "outputs": [],
   "source": [
    "x_diff = pd.merge(data_frame_1, data_frame_r, how='left', on='name')\n",
    "x_diff.head()"
   ]
  },
  {
   "cell_type": "markdown",
   "id": "e409b5df",
   "metadata": {},
   "source": [
    "# Rotating L2 by 0.1°"
   ]
  },
  {
   "cell_type": "code",
   "execution_count": null,
   "id": "9b051466",
   "metadata": {},
   "outputs": [],
   "source": [
    "# Rotating L2 around Y\n",
    "rotated_L2 = rotate_optic(telescope, 'L2', axis='y', angle=0.1)\n",
    "make_optics_reflective(rotated_L2)\n",
    "traceFull_L2, rForward_L2, rReverse_L2, rays_L2 = run_simulation(rotated_L2, beam_config=BEAM_CONFIG_0)\n",
    "plot_zoom_on_ghosts(rForward)\n",
    "plot_zoom_on_ghosts(rForward_L2)\n",
    "plt.rcParams[\"figure.figsize\"] = [24, 24]\n",
    "spots_data_L2 = plot_ghosts_map(rForward_L2)\n",
    "data_frame_L2 = make_data_frame(rForward_L2, spots_data_L2)\n",
    "ghost_separations_L2 = compute_ghost_separations(data_frame_L2)\n",
    "plt.show()\n"
   ]
  },
  {
   "cell_type": "code",
   "execution_count": null,
   "id": "8f55b367",
   "metadata": {},
   "outputs": [],
   "source": [
    "# by how much beam spots moved?\n",
    "x_diff_L2 = pd.merge(data_frame_1, data_frame_L2, how='left', on='name')\n",
    "plt.rcParams[\"figure.figsize\"] = [9, 6]\n",
    "plt.hist((x_diff_L2['pos_x_x']-x_diff_L2['pos_x_y'])*1000)\n",
    "plt.xlabel('Ghost spot displacement (mm)')\n",
    "plt.show()\n",
    "print(f'L2 rotation of 0.1° means a displacement of {300*math.tan(0.1*3.14/180.):.3f} mm of the lens border.')"
   ]
  },
  {
   "cell_type": "code",
   "execution_count": null,
   "id": "416c02d4",
   "metadata": {},
   "outputs": [],
   "source": [
    "# Rotate and simulate\n",
    "def full_rotation(telescope, optic_name='L2', angle=0.1, debug=False):\n",
    "    rotated_optic = rotate_optic(telescope, optic_name, axis='y', angle=angle)\n",
    "    if debug:\n",
    "        print(f'{optic_name} rotation of {angle:.3f}° means a displacement of {300*math.tan(angle*3.14/180.):.3f} mm of the lens border.')\n",
    "    make_optics_reflective(rotated_optic)\n",
    "    traceFull_o, rForward_o, rReverse_o, rays_o = run_simulation(rotated_optic, beam_config=BEAM_CONFIG_0)\n",
    "    spots_data_o, _spots = reduce_ghosts(rForward_o)\n",
    "    data_frame_o = make_data_frame(rForward_o, spots_data_o)\n",
    "    ghost_separations_o = compute_ghost_separations(data_frame_o)\n",
    "    return data_frame_o, ghost_separations_o\n",
    "\n",
    "# Rotating L2 specifically\n",
    "def full_rotation_L2(telescope, angle=0.1):\n",
    "    return full_rotation(telescope, optic_name='L2', angle=angle)\n",
    "\n",
    "# Helpers to run and plot a scan in one optical element rotation\n",
    "def sim_scan_rotated_optic(telescope, optic_name, min_angle, max_angle, step_angle, ref_data_frame=data_frame_1):\n",
    "    ''' @TODO handle better reference data frame\n",
    "    '''\n",
    "    print(f'Starting {optic_name} rotation scan.')\n",
    "    rotation_sims = list()\n",
    "    scan_angles = list()\n",
    "    for angle in np.arange(min_angle, max_angle, step_angle):\n",
    "        scan_angles.append(angle)\n",
    "        print(f'{angle:.3f}', end = ' ')\n",
    "        df, _= full_rotation(telescope, optic_name=optic_name, angle=angle)\n",
    "        rotation_sims.append(df)\n",
    "\n",
    "    # Merge data frames\n",
    "    merged_data_frame = [pd.merge(ref_data_frame, df, how='left', on='name') for df in rotation_sims]\n",
    "    print('Done.')\n",
    "    return merged_data_frame, scan_angles\n",
    "\n",
    "\n",
    "# Translate and simulate\n",
    "def full_translation(telescope, optic_name='L2', distance=0.01, debug=False):\n",
    "    translated_optic = translate_optic(telescope, optic_name, axis='x', distance=distance)\n",
    "    make_optics_reflective(translated_optic)\n",
    "    traceFull_s, rForward_s, rReverse_s, rays_s = run_simulation(translated_optic, beam_config=BEAM_CONFIG_0)\n",
    "    spots_data_s, _spots = reduce_ghosts(rForward_s)\n",
    "    data_frame_s = make_data_frame(rForward_s, spots_data_s)\n",
    "    ghost_separations_s = compute_ghost_separations(data_frame_s)\n",
    "    return data_frame_s, ghost_separations_s\n",
    "\n",
    "# Helpers to run and plot a scan in one optical element translation\n",
    "def sim_scan_translated_optic(telescope, optic_name, min_dist, max_dist, step_dist, ref_data_frame=data_frame_1):\n",
    "    ''' @TODO handle better reference data frame\n",
    "    '''\n",
    "    print(f'Starting {optic_name} translation scan.')\n",
    "    sims = list()\n",
    "    scan_values = list()\n",
    "    for shift in np.arange(min_dist, max_dist, step_dist):\n",
    "        scan_values.append(shift)\n",
    "        print(f'{shift:.6f}', end = ' ')\n",
    "        df, _= full_translation(telescope, optic_name=optic_name, distance=shift)\n",
    "        sims.append(df)\n",
    "\n",
    "    # Merge data frames\n",
    "    merged_data_frame = [pd.merge(ref_data_frame, df, how='left', on='name') for df in sims]\n",
    "    print('Done.')\n",
    "    return merged_data_frame, scan_values\n",
    "\n",
    "\n",
    "def plot_max_displacement_for_sim_scan(merged_data_frame, scan_angles, trans_type='rotation'):\n",
    "    # Plot maximum displacement as a function of filter rotation angle\n",
    "    # Get list of signed maximum displacements in mm\n",
    "    x_max_diff = list()\n",
    "    for df in merged_data_frame:\n",
    "        tmp_diff = df['pos_x_x']-df['pos_x_y']\n",
    "        max_abs = max(abs(tmp_diff))\n",
    "        if max_abs == tmp_diff.max():\n",
    "            x_max_diff.append(max_abs*1000)\n",
    "        else:\n",
    "            x_max_diff.append(-max_abs*1000)\n",
    "\n",
    "    # Linear fit\n",
    "    lin_fit = stats.linregress(scan_angles, x_max_diff)\n",
    "    print(f'Filter fit results: intercept = {lin_fit.intercept:.6f}, slope = {lin_fit.slope:.3f}')\n",
    "\n",
    "    # Scatter plot with fit\n",
    "    plt.rcParams[\"figure.figsize\"] = [18, 6]\n",
    "    fig, ax = plt.subplots(1, 2)    \n",
    "    ax[0].plot(scan_angles, x_max_diff, 'o', label='data')\n",
    "    interp_ys = [lin_fit.intercept + lin_fit.slope*x for x in scan_angles]\n",
    "    ax[0].plot(scan_angles, interp_ys, 'r', label='linear fit')\n",
    "    ax[0].legend()\n",
    "    ax[0].set_title(f'Maximum ghost displacement as a function of element {trans_type}')\n",
    "    ax[0].set_ylabel('Ghost spot displacement (mm)')\n",
    "    if trans_type=='rotation':\n",
    "        ax[0].set_xlabel('rotation angle (°)')\n",
    "    elif trans_type=='shift':\n",
    "        ax[0].set_xlabel('shift (m)')\n",
    "        \n",
    "    # Residuals and fit\n",
    "    residuals = np.array(interp_ys)-np.array(x_max_diff)\n",
    "    (mu, sigma) = stats.norm.fit(residuals)\n",
    "    n, bins, patches = ax[1].hist(residuals, bins=10, density=True)\n",
    "    bincenters = 0.5*(bins[1:]+bins[:-1])\n",
    "    y = stats.norm.pdf(bincenters, mu, sigma)\n",
    "    ax[1].plot(bincenters, y, 'r--', linewidth=2)\n",
    "    ax[1].set_title('Fit residuals (mm)')\n",
    "    plt.show()\n",
    "\n"
   ]
  },
  {
   "cell_type": "markdown",
   "id": "878939fb",
   "metadata": {},
   "source": [
    "## Rotating L2 by just 0.01°"
   ]
  },
  {
   "cell_type": "code",
   "execution_count": null,
   "id": "23456a0d",
   "metadata": {},
   "outputs": [],
   "source": [
    "# now rotating L2 by just 0.01 degrees\n",
    "df_L2_2, sf_gs_L2_2 = full_rotation_L2(telescope, angle=0.01)"
   ]
  },
  {
   "cell_type": "code",
   "execution_count": null,
   "id": "0c0dd5cb",
   "metadata": {},
   "outputs": [],
   "source": [
    "# Merge tables\n",
    "x_diff_L2_2 = pd.merge(data_frame_1, df_L2_2, how='left', on='name')\n",
    "# Tmp var\n",
    "tmp_diff_L2_2 = x_diff_L2_2['pos_x_x']-x_diff_L2_2['pos_x_y']\n",
    "# Get maximum displacement?\n",
    "d_max = max(tmp_diff_L2_2)\n",
    "i_max = tmp_diff_L2_2.idxmax()\n",
    "ghost_max = x_diff_L2_2['name'][i_max]\n",
    "print(f'Max displacement is {d_max*1000:.3f} mm for {ghost_max}')\n",
    "# Plot\n",
    "plt.rcParams[\"figure.figsize\"] = [9, 6]\n",
    "plt.hist((x_diff_L2_2['pos_x_x']-x_diff_L2_2['pos_x_y'])*1000)\n",
    "plt.xlabel('Ghost spot displacement (mm)')\n",
    "plt.show()\n"
   ]
  },
  {
   "cell_type": "markdown",
   "id": "906ed9b6",
   "metadata": {},
   "source": [
    "## Scan on L2, Filter, L1 and Camera rotation angles [-1, 1, 0.1]"
   ]
  },
  {
   "cell_type": "code",
   "execution_count": null,
   "id": "44f01c30",
   "metadata": {},
   "outputs": [],
   "source": [
    "# Run a scan in L2 rotation\n",
    "L2_r_merged, L2_angles = sim_scan_rotated_optic(telescope, 'L2', min_angle=-1, max_angle=1, step_angle=0.1)"
   ]
  },
  {
   "cell_type": "code",
   "execution_count": null,
   "id": "6caa1694",
   "metadata": {},
   "outputs": [],
   "source": [
    "# Plot maximum displacement as a function of L2 rotation angle\n",
    "plot_max_displacement_for_sim_scan(L2_r_merged, L2_angles)"
   ]
  },
  {
   "cell_type": "code",
   "execution_count": null,
   "id": "fcd18f62",
   "metadata": {},
   "outputs": [],
   "source": [
    "# Run a scan in Filter rotation\n",
    "filter_r_merged, filter_angles = sim_scan_rotated_optic(telescope, 'Filter', min_angle=-1, max_angle=1, step_angle=0.1)"
   ]
  },
  {
   "cell_type": "code",
   "execution_count": null,
   "id": "3d54dd8a",
   "metadata": {},
   "outputs": [],
   "source": [
    "# Plot maximum displacement as a function of Filter rotation angle\n",
    "plot_max_displacement_for_sim_scan(filter_r_merged, filter_angles)"
   ]
  },
  {
   "cell_type": "code",
   "execution_count": null,
   "id": "df34fab1",
   "metadata": {},
   "outputs": [],
   "source": [
    "# Run a scan in L1 rotation\n",
    "L1_merged, L1_angles = sim_scan_rotated_optic(telescope, 'L1', min_angle=-1, max_angle=1, step_angle=0.1)"
   ]
  },
  {
   "cell_type": "code",
   "execution_count": null,
   "id": "9892e818",
   "metadata": {},
   "outputs": [],
   "source": [
    "# Plot maximum displacement as a function of L1 rotation angle\n",
    "plot_max_displacement_for_sim_scan(L1_merged, L1_angles)"
   ]
  },
  {
   "cell_type": "code",
   "execution_count": null,
   "id": "6c228213",
   "metadata": {},
   "outputs": [],
   "source": [
    "# Run a scan in L3 rotation\n",
    "L3_merged, L3_angles = sim_scan_rotated_optic(telescope, 'L3', min_angle=-1, max_angle=1, step_angle=0.1)"
   ]
  },
  {
   "cell_type": "code",
   "execution_count": null,
   "id": "16cb87ee",
   "metadata": {},
   "outputs": [],
   "source": [
    "# Plot maximum displacement as a function of L3 rotation angle\n",
    "plot_max_displacement_for_sim_scan(L3_merged, L3_angles)"
   ]
  },
  {
   "cell_type": "code",
   "execution_count": null,
   "id": "c99e7bdb",
   "metadata": {},
   "outputs": [],
   "source": [
    "# Run a scan in detector rotation\n",
    "d_merged, d_angles = sim_scan_rotated_optic(telescope, 'Detector', min_angle=-0.1, max_angle=0.1, step_angle=0.005)"
   ]
  },
  {
   "cell_type": "code",
   "execution_count": null,
   "id": "9b332a40",
   "metadata": {},
   "outputs": [],
   "source": [
    "# Plot maximum displacement as a function of Detector rotation angle\n",
    "plot_max_displacement_for_sim_scan(d_merged, d_angles)"
   ]
  },
  {
   "cell_type": "markdown",
   "id": "bd56473c",
   "metadata": {},
   "source": [
    "# Now working on Translations\n"
   ]
  },
  {
   "cell_type": "markdown",
   "id": "c1168d0d",
   "metadata": {},
   "source": [
    "## first test translation"
   ]
  },
  {
   "cell_type": "code",
   "execution_count": null,
   "id": "af73d973",
   "metadata": {},
   "outputs": [],
   "source": [
    "# Moving L2 along X\n",
    "translated_telescope = translate_optic(telescope, 'L2', axis='x', distance=0.1)\n",
    "make_optics_reflective(translated_telescope)\n",
    "# showing telescope\n",
    "plt.rcParams[\"figure.figsize\"] = [6, 12]\n",
    "fig, ax = plt.subplots(1)\n",
    "# after rotation\n",
    "translated_telescope.draw2d(ax, c='orange')\n",
    "# before rotation\n",
    "telescope.draw2d(ax, c='k')\n",
    "plt.show()"
   ]
  },
  {
   "cell_type": "markdown",
   "id": "cf647ea6",
   "metadata": {},
   "source": [
    "## now check effect on ghost of a 1 cm shift"
   ]
  },
  {
   "cell_type": "code",
   "execution_count": null,
   "id": "f6a1133d",
   "metadata": {},
   "outputs": [],
   "source": [
    "# Rotating L2 around Y\n",
    "translated_L2 = translate_optic(telescope, 'L2', axis='x', distance=0.01)\n",
    "make_optics_reflective(translated_L2)\n",
    "traceFull_L2_s, rForward_L2_s, rReverse_L2_s, rays_L2_s = run_simulation(translated_L2, beam_config=BEAM_CONFIG_0)\n",
    "plot_zoom_on_ghosts(rForward)\n",
    "plot_zoom_on_ghosts(rForward_L2_s)\n",
    "plt.rcParams[\"figure.figsize\"] = [24, 24]\n",
    "spots_data_L2_s = plot_ghosts_map(rForward_L2_s)\n",
    "data_frame_L2_s = make_data_frame(rForward_L2_s, spots_data_L2_s)\n",
    "ghost_separations_L2_s = compute_ghost_separations(data_frame_L2_s)\n",
    "plt.show()"
   ]
  },
  {
   "cell_type": "markdown",
   "id": "20e68315",
   "metadata": {},
   "source": [
    "## now setup a scan in shift of L2"
   ]
  },
  {
   "cell_type": "code",
   "execution_count": null,
   "id": "2a8021e0",
   "metadata": {},
   "outputs": [],
   "source": [
    "min_dist = -0.01\n",
    "max_dist = 0.01\n",
    "step_dist = 0.001\n",
    "# Scan a shift in L2 along the x axis\n",
    "L2_shifted, L2_shifts = sim_scan_translated_optic(telescope, optic_name='L2', \\\n",
    "                                                  min_dist=min_dist, max_dist=max_dist, step_dist=step_dist)"
   ]
  },
  {
   "cell_type": "code",
   "execution_count": null,
   "id": "ecdc4a19",
   "metadata": {},
   "outputs": [],
   "source": [
    "# plot max ghost spot displacement\n",
    "plot_max_displacement_for_sim_scan(L2_shifted, L2_shifts, trans_type='shift')"
   ]
  },
  {
   "cell_type": "markdown",
   "id": "c995b8b8",
   "metadata": {},
   "source": [
    "## shift filter\n"
   ]
  },
  {
   "cell_type": "code",
   "execution_count": null,
   "id": "2f808db4",
   "metadata": {},
   "outputs": [],
   "source": [
    "# Scan a shift in L2 along the x axis\n",
    "f_shifted, f_shifts = sim_scan_translated_optic(telescope, optic_name='Filter', \\\n",
    "                                                min_dist=min_dist, max_dist=max_dist, step_dist=step_dist)"
   ]
  },
  {
   "cell_type": "code",
   "execution_count": null,
   "id": "4885cb72",
   "metadata": {},
   "outputs": [],
   "source": [
    "# plot max ghost spot displacement\n",
    "plot_max_displacement_for_sim_scan(f_shifted, f_shifts, trans_type='shift')"
   ]
  },
  {
   "cell_type": "markdown",
   "id": "015a8e7c",
   "metadata": {},
   "source": [
    "## look at a more realistic shift of the detector plane"
   ]
  },
  {
   "cell_type": "code",
   "execution_count": null,
   "id": "735dff56",
   "metadata": {},
   "outputs": [],
   "source": [
    "# Scan a shift in L2 along the x axis\n",
    "d_shifted, d_shifts = sim_scan_translated_optic(telescope, optic_name='Detector', \\\n",
    "                                                min_dist=-0.0005, max_dist=0.0005, step_dist=0.00001)"
   ]
  },
  {
   "cell_type": "code",
   "execution_count": null,
   "id": "b29c6486",
   "metadata": {},
   "outputs": [],
   "source": [
    "# plot max ghost spot displacement\n",
    "plot_max_displacement_for_sim_scan(d_shifted, d_shifts, trans_type='shift')"
   ]
  },
  {
   "cell_type": "markdown",
   "id": "0c0b386c",
   "metadata": {},
   "source": [
    "# Now building telescopes with randomly translated and rotated optics"
   ]
  },
  {
   "cell_type": "code",
   "execution_count": null,
   "id": "d4cd236e",
   "metadata": {},
   "outputs": [],
   "source": [
    "# function to rotate one element of a telescope\n",
    "def rotate_optic_vector(telescope, name, angles=[0.1, 0.1, 0.1], verbose=False):\n",
    "    # Rotating around the 3 axis\n",
    "    rotX = R.from_euler('x', angles[0], degrees=True)\n",
    "    rotXY = rotX*R.from_euler('y', angles[1], degrees=True)\n",
    "    rotXYZ = rotXY*R.from_euler('z', angles[2], degrees=True)\n",
    "    if verbose:\n",
    "        print('Rotation around Y as Euler:\\n', rotXYZ.as_euler('zyx', degrees=True))\n",
    "        print('Rotation around Y as  matrix:\\n', rotXYZ.as_matrix())\n",
    "    # Rotating one item of the telescope\n",
    "    rotated_telescope = telescope.withLocallyRotatedOptic(name=name, rot=rotXYZ.as_matrix())\n",
    "    if verbose:\n",
    "        print(f'{name} before rotation:\\n', telescope[name].coordSys.rot)\n",
    "        print(f'{name} after rotation:\\n', rotated_telescope[name].coordSys.rot)\n",
    "    return rotated_telescope\n",
    "\n",
    "# function to translate one element of a telescope\n",
    "def translate_optic_vector(telescope, name, shifts=[0.001, 0.001, 0.001], verbose=False):\n",
    "    translated_telescope = telescope.withLocallyShiftedOptic(name=name, shift=shifts)\n",
    "    return translated_telescope\n",
    "\n",
    "def randomized_telescope(telescope, max_angle=0.1, max_shift=0.001, verbose=False):\n",
    "    # randomly rotate all optical elements\n",
    "    rnd_telescope = telescope\n",
    "    optics_names = ['L1', 'L2', 'L3', 'Filter'] #get_list_of_optics(telescope)\n",
    "    # rotations\n",
    "    for optic in optics_names:\n",
    "        rnd_euler_angles = max_angle*(2*np.random.random([3]) - 1)\n",
    "        rnd_telescope = rotate_optic_vector(rnd_telescope, name=optic, angles=rnd_euler_angles, verbose=verbose)\n",
    "    #translations\n",
    "    for optic in optics_names:\n",
    "        rnd_shifts = max_shift*(2*np.random.random([3]) - 1)\n",
    "        rnd_telescope = translate_optic_vector(rnd_telescope, name=optic, shifts=rnd_shifts, verbose=verbose)\n",
    "    return rnd_telescope\n",
    "\n",
    "def full_random_telescope_sim(telescope, max_angle, max_shift, beam_config=BEAM_CONFIG_on_axis):\n",
    "    rnd_tel = randomized_telescope(telescope, max_angle, max_shift)\n",
    "    make_optics_reflective(rnd_tel)\n",
    "    traceFull_r, rForward_r, rReverse_r, rays_r = run_simulation(rnd_tel, beam_config=beam_config)\n",
    "    spots_data_r, _spots = reduce_ghosts(rForward_r)\n",
    "    data_frame_r = make_data_frame(rForward_r, spots_data_r)\n",
    "    ghost_separations_r = compute_ghost_separations(data_frame_r)\n",
    "    return data_frame_r, ghost_separations_r\n"
   ]
  },
  {
   "cell_type": "code",
   "execution_count": null,
   "id": "edcaed95",
   "metadata": {},
   "outputs": [],
   "source": [
    "# showing telescopes\n",
    "plt.rcParams[\"figure.figsize\"] = [24, 24]\n",
    "fig, ax = plt.subplots(2, 6)\n",
    "ax = ax.flatten()\n",
    "# draw plenty of random telescopes\n",
    "for i in range(12):\n",
    "    rnd_tel = randomized_telescope(telescope, max_angle=1, max_shift=0.01)\n",
    "    make_optics_reflective(rnd_tel)\n",
    "    rnd_tel.draw2d(ax[i], c='orange')\n",
    "    # before rotation\n",
    "    telescope.draw2d(ax[i], c='k')\n",
    "plt.tight_layout()\n",
    "plt.show()"
   ]
  },
  {
   "cell_type": "markdown",
   "id": "77fbfd2b",
   "metadata": {},
   "source": [
    "# Characterize impact of randomizing telescope on an on the optical axis light beam\n"
   ]
  },
  {
   "cell_type": "code",
   "execution_count": null,
   "id": "299fcce5",
   "metadata": {},
   "outputs": [],
   "source": [
    "BEAM_CONFIG_on_axis_fast = BEAM_CONFIG_on_axis\n",
    "BEAM_CONFIG_on_axis_fast['n_photons'] = 100\n"
   ]
  },
  {
   "cell_type": "code",
   "execution_count": null,
   "id": "a038fe1a",
   "metadata": {},
   "outputs": [],
   "source": [
    "main_spot_name = ('main', 'main')\n",
    "x_spot = list()\n",
    "\n",
    "starttime = timeit.default_timer()\n",
    "print(\"The start time is :\",starttime)\n",
    "for i in range(10):\n",
    "    df, gh = full_random_telescope_sim(telescope, max_angle=0.1, max_shift=0.001,\\\n",
    "                                       beam_config=BEAM_CONFIG_on_axis_fast)\n",
    "    x_spot.append(df[df['name']==main_spot_name]['pos_x'].item())\n",
    "    print(i, end=' ')\n",
    "print(\"The time difference is :\", timeit.default_timer() - starttime)\n",
    "    "
   ]
  },
  {
   "cell_type": "code",
   "execution_count": null,
   "id": "c409d207",
   "metadata": {},
   "outputs": [],
   "source": [
    "plt.rcParams[\"figure.figsize\"] = [9,9]\n",
    "fig, ax = plt.subplots(1, 1)\n",
    "ax.hist(x_spot)"
   ]
  },
  {
   "cell_type": "code",
   "execution_count": null,
   "id": "2c9d3322",
   "metadata": {},
   "outputs": [],
   "source": [
    "import concurrent.futures \n",
    "\n",
    "def get_spot_x():\n",
    "    df, gh = full_random_telescope_sim(telescope, max_angle=0.1, max_shift=0.001,\\\n",
    "                                       beam_config=BEAM_CONFIG_on_axis_fast)\n",
    "    return df[df['name']==main_spot_name]['pos_x'].item()\n",
    "\n",
    "x_spot_future = list()\n",
    "\n",
    "starttime = timeit.default_timer()\n",
    "with concurrent.futures.ThreadPoolExecutor() as executor:\n",
    "    futures = [executor.submit(get_spot_x, ) for i in range(10)]\n",
    "    for future in concurrent.futures.as_completed(futures):\n",
    "        x_spot_future.append(future.result())\n",
    "stoptime = timeit.default_timer()\n",
    "\n",
    "print(x_spot_future)\n",
    "print(\"The time difference is :\", stoptime - starttime)\n"
   ]
  },
  {
   "cell_type": "code",
   "execution_count": null,
   "id": "6cf61852",
   "metadata": {},
   "outputs": [],
   "source": [
    "fig, ax = plt.subplots(1, 1)\n",
    "ax.hist(x_spot)"
   ]
  },
  {
   "cell_type": "code",
   "execution_count": null,
   "id": "8c5bf4af",
   "metadata": {},
   "outputs": [],
   "source": []
  }
 ],
 "metadata": {
  "kernelspec": {
   "display_name": "Python 3 (ipykernel)",
   "language": "python",
   "name": "python3"
  },
  "language_info": {
   "codemirror_mode": {
    "name": "ipython",
    "version": 3
   },
   "file_extension": ".py",
   "mimetype": "text/x-python",
   "name": "python",
   "nbconvert_exporter": "python",
   "pygments_lexer": "ipython3",
   "version": "3.9.7"
  }
 },
 "nbformat": 4,
 "nbformat_minor": 5
}
